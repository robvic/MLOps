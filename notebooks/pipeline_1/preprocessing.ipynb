{
 "cells": [
  {
   "cell_type": "markdown",
   "id": "569aba84",
   "metadata": {},
   "source": [
    "# Etapa de pre-processamento\n",
    "\n",
    "Transformações efetuadas:\n",
    "- Seleção das features\n",
    "- Normalização das features contínuas\n",
    "- Split entre train/test/eval"
   ]
  },
  {
   "cell_type": "code",
   "execution_count": null,
   "id": "588531e9",
   "metadata": {},
   "outputs": [
    {
     "name": "stdout",
     "output_type": "stream",
     "text": [
      "Requirement already satisfied: google-cloud-bigquery in c:\\users\\roberto\\appdata\\local\\programs\\python\\python310\\lib\\site-packages (from -r requirements.txt (line 1)) (3.34.0)\n",
      "Requirement already satisfied: google-cloud-storage in c:\\users\\roberto\\appdata\\local\\programs\\python\\python310\\lib\\site-packages (from -r requirements.txt (line 2)) (2.7.0)\n",
      "Requirement already satisfied: pandas-gbq in c:\\users\\roberto\\appdata\\local\\programs\\python\\python310\\lib\\site-packages (from -r requirements.txt (line 3)) (0.29.1)\n",
      "Requirement already satisfied: scikit-learn in c:\\users\\roberto\\appdata\\local\\programs\\python\\python310\\lib\\site-packages (from -r requirements.txt (line 4)) (1.5.2)\n",
      "Requirement already satisfied: joblib in c:\\users\\roberto\\appdata\\local\\programs\\python\\python310\\lib\\site-packages (from -r requirements.txt (line 5)) (1.4.2)\n",
      "Requirement already satisfied: google-api-core<3.0.0,>=2.11.1 in c:\\users\\roberto\\appdata\\local\\programs\\python\\python310\\lib\\site-packages (from google-api-core[grpc]<3.0.0,>=2.11.1->google-cloud-bigquery->-r requirements.txt (line 1)) (2.19.0)\n",
      "Requirement already satisfied: google-auth<3.0.0,>=2.14.1 in c:\\users\\roberto\\appdata\\local\\programs\\python\\python310\\lib\\site-packages (from google-cloud-bigquery->-r requirements.txt (line 1)) (2.30.0)\n",
      "Requirement already satisfied: google-cloud-core<3.0.0,>=2.4.1 in c:\\users\\roberto\\appdata\\local\\programs\\python\\python310\\lib\\site-packages (from google-cloud-bigquery->-r requirements.txt (line 1)) (2.4.3)\n",
      "Requirement already satisfied: google-resumable-media<3.0.0,>=2.0.0 in c:\\users\\roberto\\appdata\\local\\programs\\python\\python310\\lib\\site-packages (from google-cloud-bigquery->-r requirements.txt (line 1)) (2.3.3)\n",
      "Requirement already satisfied: packaging>=24.2.0 in c:\\users\\roberto\\appdata\\local\\programs\\python\\python310\\lib\\site-packages (from google-cloud-bigquery->-r requirements.txt (line 1)) (24.2)\n",
      "Requirement already satisfied: python-dateutil<3.0.0,>=2.8.2 in c:\\users\\roberto\\appdata\\local\\programs\\python\\python310\\lib\\site-packages (from google-cloud-bigquery->-r requirements.txt (line 1)) (2.8.2)\n",
      "Requirement already satisfied: requests<3.0.0,>=2.21.0 in c:\\users\\roberto\\appdata\\local\\programs\\python\\python310\\lib\\site-packages (from google-cloud-bigquery->-r requirements.txt (line 1)) (2.32.3)\n",
      "Requirement already satisfied: googleapis-common-protos<2.0.dev0,>=1.56.2 in c:\\users\\roberto\\appdata\\local\\programs\\python\\python310\\lib\\site-packages (from google-api-core<3.0.0,>=2.11.1->google-api-core[grpc]<3.0.0,>=2.11.1->google-cloud-bigquery->-r requirements.txt (line 1)) (1.63.1)\n",
      "Requirement already satisfied: protobuf!=3.20.0,!=3.20.1,!=4.21.0,!=4.21.1,!=4.21.2,!=4.21.3,!=4.21.4,!=4.21.5,<5.0.0.dev0,>=3.19.5 in c:\\users\\roberto\\appdata\\local\\programs\\python\\python310\\lib\\site-packages (from google-api-core<3.0.0,>=2.11.1->google-api-core[grpc]<3.0.0,>=2.11.1->google-cloud-bigquery->-r requirements.txt (line 1)) (3.20.3)\n",
      "Requirement already satisfied: proto-plus<2.0.0dev,>=1.22.3 in c:\\users\\roberto\\appdata\\local\\programs\\python\\python310\\lib\\site-packages (from google-api-core<3.0.0,>=2.11.1->google-api-core[grpc]<3.0.0,>=2.11.1->google-cloud-bigquery->-r requirements.txt (line 1)) (1.23.0)\n",
      "Requirement already satisfied: grpcio<2.0dev,>=1.33.2 in c:\\users\\roberto\\appdata\\local\\programs\\python\\python310\\lib\\site-packages (from google-api-core[grpc]<3.0.0,>=2.11.1->google-cloud-bigquery->-r requirements.txt (line 1)) (1.71.0)\n",
      "Requirement already satisfied: grpcio-status<2.0.dev0,>=1.33.2 in c:\\users\\roberto\\appdata\\local\\programs\\python\\python310\\lib\\site-packages (from google-api-core[grpc]<3.0.0,>=2.11.1->google-cloud-bigquery->-r requirements.txt (line 1)) (1.46.3)\n",
      "Requirement already satisfied: cachetools<6.0,>=2.0.0 in c:\\users\\roberto\\appdata\\local\\programs\\python\\python310\\lib\\site-packages (from google-auth<3.0.0,>=2.14.1->google-cloud-bigquery->-r requirements.txt (line 1)) (5.1.0)\n",
      "Requirement already satisfied: pyasn1-modules>=0.2.1 in c:\\users\\roberto\\appdata\\local\\programs\\python\\python310\\lib\\site-packages (from google-auth<3.0.0,>=2.14.1->google-cloud-bigquery->-r requirements.txt (line 1)) (0.2.8)\n",
      "Requirement already satisfied: rsa<5,>=3.1.4 in c:\\users\\roberto\\appdata\\local\\programs\\python\\python310\\lib\\site-packages (from google-auth<3.0.0,>=2.14.1->google-cloud-bigquery->-r requirements.txt (line 1)) (4.8)\n",
      "Requirement already satisfied: google-crc32c<2.0dev,>=1.0 in c:\\users\\roberto\\appdata\\local\\programs\\python\\python310\\lib\\site-packages (from google-resumable-media<3.0.0,>=2.0.0->google-cloud-bigquery->-r requirements.txt (line 1)) (1.3.0)\n",
      "Requirement already satisfied: six>=1.5 in c:\\users\\roberto\\appdata\\local\\programs\\python\\python310\\lib\\site-packages (from python-dateutil<3.0.0,>=2.8.2->google-cloud-bigquery->-r requirements.txt (line 1)) (1.16.0)\n",
      "Requirement already satisfied: charset-normalizer<4,>=2 in c:\\users\\roberto\\appdata\\local\\programs\\python\\python310\\lib\\site-packages (from requests<3.0.0,>=2.21.0->google-cloud-bigquery->-r requirements.txt (line 1)) (2.0.12)\n",
      "Requirement already satisfied: idna<4,>=2.5 in c:\\users\\roberto\\appdata\\local\\programs\\python\\python310\\lib\\site-packages (from requests<3.0.0,>=2.21.0->google-cloud-bigquery->-r requirements.txt (line 1)) (2.10)\n",
      "Requirement already satisfied: urllib3<3,>=1.21.1 in c:\\users\\roberto\\appdata\\local\\programs\\python\\python310\\lib\\site-packages (from requests<3.0.0,>=2.21.0->google-cloud-bigquery->-r requirements.txt (line 1)) (1.26.15)\n",
      "Requirement already satisfied: certifi>=2017.4.17 in c:\\users\\roberto\\appdata\\local\\programs\\python\\python310\\lib\\site-packages (from requests<3.0.0,>=2.21.0->google-cloud-bigquery->-r requirements.txt (line 1)) (2022.5.18.1)\n",
      "Requirement already satisfied: pyasn1>=0.1.3 in c:\\users\\roberto\\appdata\\local\\programs\\python\\python310\\lib\\site-packages (from rsa<5,>=3.1.4->google-auth<3.0.0,>=2.14.1->google-cloud-bigquery->-r requirements.txt (line 1)) (0.4.8)\n",
      "Requirement already satisfied: setuptools in c:\\users\\roberto\\appdata\\local\\programs\\python\\python310\\lib\\site-packages (from pandas-gbq->-r requirements.txt (line 3)) (80.9.0)\n",
      "Requirement already satisfied: db-dtypes<2.0.0,>=1.0.4 in c:\\users\\roberto\\appdata\\local\\programs\\python\\python310\\lib\\site-packages (from pandas-gbq->-r requirements.txt (line 3)) (1.4.3)\n",
      "Requirement already satisfied: numpy>=1.18.1 in c:\\users\\roberto\\appdata\\local\\programs\\python\\python310\\lib\\site-packages (from pandas-gbq->-r requirements.txt (line 3)) (1.26.4)\n",
      "Requirement already satisfied: pandas>=1.1.4 in c:\\users\\roberto\\appdata\\local\\programs\\python\\python310\\lib\\site-packages (from pandas-gbq->-r requirements.txt (line 3)) (2.3.0)\n",
      "Requirement already satisfied: pyarrow>=4.0.0 in c:\\users\\roberto\\appdata\\local\\programs\\python\\python310\\lib\\site-packages (from pandas-gbq->-r requirements.txt (line 3)) (20.0.0)\n",
      "Requirement already satisfied: pydata-google-auth>=1.5.0 in c:\\users\\roberto\\appdata\\local\\programs\\python\\python310\\lib\\site-packages (from pandas-gbq->-r requirements.txt (line 3)) (1.9.1)\n",
      "Requirement already satisfied: google-auth-oauthlib>=0.7.0 in c:\\users\\roberto\\appdata\\local\\programs\\python\\python310\\lib\\site-packages (from pandas-gbq->-r requirements.txt (line 3)) (1.2.2)\n",
      "Requirement already satisfied: scipy>=1.6.0 in c:\\users\\roberto\\appdata\\local\\programs\\python\\python310\\lib\\site-packages (from scikit-learn->-r requirements.txt (line 4)) (1.14.1)\n",
      "Requirement already satisfied: threadpoolctl>=3.1.0 in c:\\users\\roberto\\appdata\\local\\programs\\python\\python310\\lib\\site-packages (from scikit-learn->-r requirements.txt (line 4)) (3.5.0)\n",
      "Requirement already satisfied: requests-oauthlib>=0.7.0 in c:\\users\\roberto\\appdata\\local\\programs\\python\\python310\\lib\\site-packages (from google-auth-oauthlib>=0.7.0->pandas-gbq->-r requirements.txt (line 3)) (1.3.1)\n",
      "Requirement already satisfied: pytz>=2020.1 in c:\\users\\roberto\\appdata\\local\\programs\\python\\python310\\lib\\site-packages (from pandas>=1.1.4->pandas-gbq->-r requirements.txt (line 3)) (2022.1)\n",
      "Requirement already satisfied: tzdata>=2022.7 in c:\\users\\roberto\\appdata\\local\\programs\\python\\python310\\lib\\site-packages (from pandas>=1.1.4->pandas-gbq->-r requirements.txt (line 3)) (2024.1)\n",
      "Requirement already satisfied: oauthlib>=3.0.0 in c:\\users\\roberto\\appdata\\local\\programs\\python\\python310\\lib\\site-packages (from requests-oauthlib>=0.7.0->google-auth-oauthlib>=0.7.0->pandas-gbq->-r requirements.txt (line 3)) (3.2.2)\n",
      "Note: you may need to restart the kernel to use updated packages.\n"
     ]
    }
   ],
   "source": [
    "# Imports\n",
    "%pip install -r requirements.txt -q\n",
    "\n",
    "import pandas as pd\n",
    "from google.cloud import bigquery\n",
    "from sklearn.preprocessing import MinMaxScaler\n",
    "from sklearn.model_selection import train_test_split\n"
   ]
  },
  {
   "cell_type": "code",
   "execution_count": 27,
   "id": "8ae453c4",
   "metadata": {},
   "outputs": [],
   "source": [
    "# Load\n",
    "PROJECT_ID = \"ai-platform-mockup\"\n",
    "INPUT_DATASET_ID = \"staging\"\n",
    "TABLE_ID = \"p1_county_natality\"\n",
    "\n",
    "client = bigquery.Client(project=PROJECT_ID)\n",
    "\n",
    "query = f\"SELECT * FROM  `{PROJECT_ID}.{INPUT_DATASET_ID}.{TABLE_ID}`\"\n",
    "df = client.query(query).to_dataframe()"
   ]
  },
  {
   "cell_type": "code",
   "execution_count": 28,
   "id": "9f904b95",
   "metadata": {},
   "outputs": [],
   "source": [
    "# Selection\n",
    "selected_columns = [\n",
    "    \"Births\",\n",
    "    \"Ave_Age_of_Mother\",\n",
    "    \"Ave_OE_Gestational_Age_Wks\",\n",
    "    \"Ave_LMP_Gestational_Age_Wks\",\n",
    "    \"Ave_Birth_Weight_gms\",\n",
    "    \"Ave_Pre_pregnancy_BMI\",\n",
    "    \"Ave_Number_of_Prenatal_Wks\"\n",
    "]\n",
    "df = df[selected_columns]"
   ]
  },
  {
   "cell_type": "code",
   "execution_count": 29,
   "id": "e18778bd",
   "metadata": {},
   "outputs": [],
   "source": [
    "# Normalization\n",
    "continuous_columns = [\n",
    "    \"Ave_Age_of_Mother\",\n",
    "    \"Ave_OE_Gestational_Age_Wks\",\n",
    "    \"Ave_LMP_Gestational_Age_Wks\",\n",
    "    \"Ave_Birth_Weight_gms\",\n",
    "    \"Ave_Pre_pregnancy_BMI\",\n",
    "    \"Ave_Number_of_Prenatal_Wks\"\n",
    "]\n",
    "\n",
    "df[continuous_columns] = MinMaxScaler().fit_transform(df[continuous_columns])"
   ]
  },
  {
   "cell_type": "code",
   "execution_count": 30,
   "id": "909b1336",
   "metadata": {},
   "outputs": [],
   "source": [
    "# Split\n",
    "train_df, test_df = train_test_split(df, test_size=0.2, random_state=42)\n",
    "test_df, eval_df = train_test_split(test_df, test_size=0.5, random_state=42)\n",
    "\n",
    "train_df[\"split\"] = \"train\"\n",
    "test_df[\"split\"] = \"test\"\n",
    "eval_df[\"split\"] = \"eval\"\n",
    "\n",
    "combined_df = pd.concat([train_df, test_df, eval_df], ignore_index=True)\n"
   ]
  },
  {
   "cell_type": "code",
   "execution_count": 31,
   "id": "054c948a",
   "metadata": {},
   "outputs": [
    {
     "name": "stderr",
     "output_type": "stream",
     "text": [
      "C:\\Users\\Roberto\\AppData\\Local\\Temp\\ipykernel_76288\\213831441.py:4: FutureWarning: to_gbq is deprecated and will be removed in a future version. Please use pandas_gbq.to_gbq instead: https://pandas-gbq.readthedocs.io/en/latest/api.html#pandas_gbq.to_gbq\n",
      "  combined_df.to_gbq(table_id, project_id=PROJECT_ID, if_exists=\"replace\")\n",
      "100%|██████████| 1/1 [00:00<00:00, 18157.16it/s]\n"
     ]
    }
   ],
   "source": [
    "# Save to BigQuery\n",
    "OUTPUT_DATASET_ID = \"preprocessed\"\n",
    "table_full_id = f\"{PROJECT_ID}.{OUTPUT_DATASET_ID}.{TABLE_ID}\"\n",
    "combined_df.to_gbq(table_full_id, project_id=PROJECT_ID, if_exists=\"replace\")"
   ]
  }
 ],
 "metadata": {
  "kernelspec": {
   "display_name": "Python 3",
   "language": "python",
   "name": "python3"
  },
  "language_info": {
   "codemirror_mode": {
    "name": "ipython",
    "version": 3
   },
   "file_extension": ".py",
   "mimetype": "text/x-python",
   "name": "python",
   "nbconvert_exporter": "python",
   "pygments_lexer": "ipython3",
   "version": "3.10.5"
  }
 },
 "nbformat": 4,
 "nbformat_minor": 5
}
