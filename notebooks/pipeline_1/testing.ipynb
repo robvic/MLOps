{
 "cells": [
  {
   "cell_type": "markdown",
   "id": "17952036",
   "metadata": {},
   "source": [
    "# Etapa de teste\n",
    "\n",
    "Métricas:\n",
    "- MSE\n",
    "- RMSE\n",
    "- MAE\n",
    "- R2\n",
    "- AR2"
   ]
  },
  {
   "cell_type": "code",
   "execution_count": 9,
   "id": "dee2017e",
   "metadata": {},
   "outputs": [
    {
     "name": "stdout",
     "output_type": "stream",
     "text": [
      "Note: you may need to restart the kernel to use updated packages.\n"
     ]
    }
   ],
   "source": [
    "# Imports\n",
    "%pip install -r requirements.txt -q\n",
    "\n",
    "import os\n",
    "import json\n",
    "from datetime import datetime\n",
    "import pandas as pd\n",
    "from google.cloud import bigquery\n",
    "from google.cloud import storage\n",
    "from sklearn.metrics import mean_squared_error, mean_absolute_error, r2_score\n",
    "import joblib"
   ]
  },
  {
   "cell_type": "code",
   "execution_count": null,
   "id": "24c7ffb9",
   "metadata": {},
   "outputs": [],
   "source": [
    "# Load Data\n",
    "PROJECT_ID = \"ai-platform-mockup\"\n",
    "INPUT_DATASET_ID = \"preprocessed\"\n",
    "TABLE_ID = \"p1_county_natality\"\n",
    "\n",
    "client = bigquery.Client(project=PROJECT_ID)\n",
    "\n",
    "query = f\"SELECT * FROM  `{PROJECT_ID}.{INPUT_DATASET_ID}.{TABLE_ID}`\"\n",
    "df = client.query(query).to_dataframe()"
   ]
  },
  {
   "cell_type": "code",
   "execution_count": 6,
   "id": "22191d84",
   "metadata": {},
   "outputs": [],
   "source": [
    "# Load Model\n",
    "model_path = \"linear_regressor.pkl\"\n",
    "storage_client = storage.Client(project=PROJECT_ID)\n",
    "bucket_name = f\"vertex-models-{PROJECT_ID}\"\n",
    "bucket = storage_client.bucket(bucket_name)\n",
    "blob = bucket.blob(model_path)\n",
    "blob.download_to_filename(model_path)\n",
    "model = joblib.load(model_path)"
   ]
  },
  {
   "cell_type": "code",
   "execution_count": 5,
   "id": "9c2dd737",
   "metadata": {},
   "outputs": [],
   "source": [
    "# Split\n",
    "df_train = df[df[\"split\"] == \"train\"]\n",
    "df_test = df[df[\"split\"] == \"test\"]\n",
    "df_eval = df[df[\"split\"] == \"eval\"]\n",
    "df_train = df_train.drop(columns=[\"split\"])\n",
    "df_test = df_test.drop(columns=[\"split\"])   \n",
    "df_eval = df_eval.drop(columns=[\"split\"])"
   ]
  },
  {
   "cell_type": "code",
   "execution_count": 10,
   "id": "b2c59ae8",
   "metadata": {},
   "outputs": [],
   "source": [
    "# Calculate Metrics\n",
    "X = df_eval.drop(columns=[\"Births\"])\n",
    "y_true = df_eval[\"Births\"]\n",
    "y_pred = model.predict(X)\n",
    "\n",
    "mse = mean_squared_error(y_true, y_pred)\n",
    "rmse = mse ** 0.5\n",
    "mae = mean_absolute_error(y_true, y_pred)\n",
    "r2 = r2_score(y_true, y_pred)\n",
    "\n",
    "results = {\n",
    "    \"mse\": mse,\n",
    "    \"rmse\": rmse,\n",
    "    \"mae\": mae,\n",
    "    \"r2\": r2\n",
    "}"
   ]
  },
  {
   "cell_type": "code",
   "execution_count": 14,
   "id": "67c648de",
   "metadata": {},
   "outputs": [
    {
     "data": {
      "text/plain": [
       "LoadJob<project=ai-platform-mockup, location=US, id=ca1bc643-4f55-41ac-9353-05451908b2dd>"
      ]
     },
     "execution_count": 14,
     "metadata": {},
     "output_type": "execute_result"
    }
   ],
   "source": [
    "# Publish Results\n",
    "EVALUATION_DATASET_ID = \"evaluation\"\n",
    "evaluation_table_ref = client.dataset(EVALUATION_DATASET_ID).table(TABLE_ID)\n",
    "job_config = bigquery.LoadJobConfig(\n",
    "    schema=[\n",
    "        bigquery.SchemaField(\"timestamp\", \"TIMESTAMP\"),\n",
    "        bigquery.SchemaField(\"pipeline_name\", \"STRING\"),\n",
    "        bigquery.SchemaField(\"results\", \"STRING\"),\n",
    "    ],\n",
    "    write_disposition=\"WRITE_APPEND\",\n",
    ")\n",
    "\n",
    "row = {\n",
    "    \"timestamp\": datetime.now(),\n",
    "    \"pipeline_name\": \"pipeline_1\",\n",
    "    \"results\": json.dumps(results), \n",
    "}\n",
    "df_results = pd.DataFrame([row])\n",
    "\n",
    "job = client.load_table_from_dataframe(df_results, evaluation_table_ref, job_config=job_config)\n",
    "job.result()"
   ]
  },
  {
   "cell_type": "code",
   "execution_count": 15,
   "id": "e2b99846",
   "metadata": {},
   "outputs": [],
   "source": [
    "# Clean up\n",
    "os.remove(model_path)"
   ]
  }
 ],
 "metadata": {
  "kernelspec": {
   "display_name": "Python 3",
   "language": "python",
   "name": "python3"
  },
  "language_info": {
   "codemirror_mode": {
    "name": "ipython",
    "version": 3
   },
   "file_extension": ".py",
   "mimetype": "text/x-python",
   "name": "python",
   "nbconvert_exporter": "python",
   "pygments_lexer": "ipython3",
   "version": "3.10.5"
  }
 },
 "nbformat": 4,
 "nbformat_minor": 5
}
